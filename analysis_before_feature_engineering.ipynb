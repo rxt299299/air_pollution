{
 "cells": [
  {
   "cell_type": "code",
   "execution_count": 39,
   "id": "80ef8047",
   "metadata": {},
   "outputs": [],
   "source": [
    "import matplotlib.pyplot as plt\n",
    "import os\n",
    "import pandas as pd\n",
    "from collections import defaultdict"
   ]
  },
  {
   "cell_type": "code",
   "execution_count": 2,
   "id": "4907d5d9",
   "metadata": {},
   "outputs": [],
   "source": [
    "#load the grouped list for colnames\n",
    "from utils import *\n",
    "#目前只有mary road有tc,我们在做union model时候先不用tc\n",
    "#可以单独给mary road做一个individual模型，里面使用tc\n",
    "weathers_2.remove('tc')\n",
    "\n",
    "# air_pollutions, weathers, weathers_2, times"
   ]
  },
  {
   "cell_type": "code",
   "execution_count": 3,
   "id": "b6940e27",
   "metadata": {},
   "outputs": [
    {
     "data": {
      "text/plain": [
       "(['nox', 'no2', 'no', 'o3', 'pm2.5', 'pm10'],\n",
       " ['ws', 'wd', 'temp', 'RH'],\n",
       " ['ssr', 'tp', 'blh', 'tcc', 'sp', 'tc'],\n",
       " ['date_unix', 'week', 'weekday', 'hour', 'month', 'day_julian'])"
      ]
     },
     "execution_count": 3,
     "metadata": {},
     "output_type": "execute_result"
    }
   ],
   "source": [
    "air_pollutions, weathers, weathers_2, times"
   ]
  },
  {
   "cell_type": "code",
   "execution_count": 8,
   "id": "bee5a646",
   "metadata": {},
   "outputs": [],
   "source": [
    "data_folder = 'D:/Work/污染项目/data-overall-update/data_process/'\\\n",
    "              'before_engineer/union_per_pollution/'"
   ]
  },
  {
   "cell_type": "code",
   "execution_count": 5,
   "id": "889b6e71",
   "metadata": {},
   "outputs": [
    {
     "data": {
      "text/plain": [
       "['no2', 'nox', 'no', 'o3', 'pm10', 'pm2.5']"
      ]
     },
     "execution_count": 5,
     "metadata": {},
     "output_type": "execute_result"
    }
   ],
   "source": [
    "pollutions = os.listdir(data_folder)\n",
    "pollutions = [item[:-15] for item in pollutions if item.endswith('_unionSites.csv')]\n",
    "pollutions"
   ]
  },
  {
   "cell_type": "markdown",
   "id": "a7807c05",
   "metadata": {},
   "source": [
    "# check missing values"
   ]
  },
  {
   "cell_type": "markdown",
   "id": "3a410d63",
   "metadata": {},
   "source": [
    "# 1. 如果一个行所有的weathers数据都为空的话，那我们就将其删掉"
   ]
  },
  {
   "cell_type": "code",
   "execution_count": 6,
   "id": "b5735476",
   "metadata": {},
   "outputs": [],
   "source": [
    "def isnull_idx(df, target_colname, idx_colname):\n",
    "    return df[df[target_colname].isnull()][idx_colname].tolist()\n",
    "\n",
    "\n",
    "def group_all_null_idx(df, group_list, idx_colname):\n",
    "    null_idxs_list = []\n",
    "    \n",
    "    for colname in group_list:\n",
    "        null_idxs_list.append(set(isnull_idx(df, colname, idx_colname)))\n",
    "        \n",
    "    return set().intersection(*null_idxs_list)"
   ]
  },
  {
   "cell_type": "code",
   "execution_count": 13,
   "id": "f7b10d49",
   "metadata": {
    "scrolled": true
   },
   "outputs": [
    {
     "name": "stdout",
     "output_type": "stream",
     "text": [
      " in air pollution: no2\n",
      "weathers group, all null rows count\n",
      "0\n",
      "weathers_2 group, all null rows count\n",
      "0\n",
      "times group, all null rows count\n",
      "0\n",
      "-----------------------------------------\n",
      " in air pollution: nox\n",
      "weathers group, all null rows count\n",
      "0\n",
      "weathers_2 group, all null rows count\n",
      "0\n",
      "times group, all null rows count\n",
      "0\n",
      "-----------------------------------------\n",
      " in air pollution: no\n",
      "weathers group, all null rows count\n",
      "0\n",
      "weathers_2 group, all null rows count\n",
      "0\n",
      "times group, all null rows count\n",
      "0\n",
      "-----------------------------------------\n",
      " in air pollution: o3\n",
      "weathers group, all null rows count\n",
      "0\n",
      "weathers_2 group, all null rows count\n",
      "0\n",
      "times group, all null rows count\n",
      "0\n",
      "-----------------------------------------\n",
      " in air pollution: pm10\n",
      "weathers group, all null rows count\n",
      "0\n",
      "weathers_2 group, all null rows count\n",
      "0\n",
      "times group, all null rows count\n",
      "0\n",
      "-----------------------------------------\n",
      " in air pollution: pm2.5\n",
      "weathers group, all null rows count\n",
      "0\n",
      "weathers_2 group, all null rows count\n",
      "0\n",
      "times group, all null rows count\n",
      "0\n",
      "-----------------------------------------\n"
     ]
    }
   ],
   "source": [
    "for pollution in pollutions:\n",
    "    \n",
    "    df = pd.read_csv(data_folder+pollution+'_unionSites.csv')\n",
    "    df['index'] = df.index\n",
    "\n",
    "    weathers_allnull_indexs = group_all_null_idx(df, weathers, 'index')\n",
    "    weathers_2_allnull_indexs = group_all_null_idx(df, weathers_2, 'index')\n",
    "    times_allnull_indexs = group_all_null_idx(df, times, 'index')\n",
    "    \n",
    "    print (\" in air pollution: \"+pollution)\n",
    "    print (\"weathers group, all null rows count\")\n",
    "    print (len(weathers_allnull_indexs))\n",
    "    print (\"weathers_2 group, all null rows count\")\n",
    "    print (len(weathers_2_allnull_indexs))\n",
    "    print (\"times group, all null rows count\")\n",
    "    print (len(times_allnull_indexs))\n",
    "    print (\"-----------------------------------------\")"
   ]
  },
  {
   "cell_type": "code",
   "execution_count": 14,
   "id": "b84e06db",
   "metadata": {},
   "outputs": [],
   "source": [
    "#这部分说明了对所有的pollution\n",
    "#没有哪一行是全部缺失整个group的column的"
   ]
  },
  {
   "cell_type": "markdown",
   "id": "52ea68f9",
   "metadata": {},
   "source": [
    "# 2.检查各个x的column里面missing values都各占多少比例"
   ]
  },
  {
   "cell_type": "code",
   "execution_count": 37,
   "id": "2848cbda",
   "metadata": {},
   "outputs": [],
   "source": [
    "def isnull_ratio(df, target_colname):\n",
    "    null_cnts =  df[df[target_colname].isnull()].shape[0]\n",
    "    return null_cnts/df.shape[0]"
   ]
  },
  {
   "cell_type": "code",
   "execution_count": 40,
   "id": "32550e79",
   "metadata": {},
   "outputs": [
    {
     "name": "stdout",
     "output_type": "stream",
     "text": [
      " in air pollution: no2\n",
      " in air pollution: nox\n",
      " in air pollution: no\n",
      " in air pollution: o3\n",
      " in air pollution: pm10\n",
      " in air pollution: pm2.5\n"
     ]
    }
   ],
   "source": [
    "null_ratio = {}\n",
    "for pollution in pollutions:\n",
    "    \n",
    "    df = pd.read_csv(data_folder+pollution+'_unionSites.csv')\n",
    "    df['index'] = df.index\n",
    "    null_ratio[pollution] = defaultdict()\n",
    "    \n",
    "    print (\" in air pollution: \"+pollution)\n",
    "    \n",
    "    for feature_x in weathers+weathers_2+times:\n",
    "        null_ratio[pollution][feature_x] = isnull_ratio(df, feature_x)"
   ]
  },
  {
   "cell_type": "code",
   "execution_count": 41,
   "id": "0f9dafec",
   "metadata": {},
   "outputs": [
    {
     "data": {
      "text/plain": [
       "{'no2': defaultdict(None,\n",
       "             {'ws': 0.0,\n",
       "              'wd': 0.019015739371007107,\n",
       "              'temp': 0.0002723517574253681,\n",
       "              'RH': 0.002007721288712649,\n",
       "              'ssr': 0.0,\n",
       "              'tp': 0.0,\n",
       "              'blh': 0.0005540146860447658,\n",
       "              'tcc': 0.0005540146860447658,\n",
       "              'sp': 0.0005540146860447658,\n",
       "              'date_unix': 0.0,\n",
       "              'week': 0.0,\n",
       "              'weekday': 0.0,\n",
       "              'hour': 0.0,\n",
       "              'month': 0.0,\n",
       "              'day_julian': 0.0}),\n",
       " 'nox': defaultdict(None,\n",
       "             {'ws': 0.0,\n",
       "              'wd': 0.019015739371007107,\n",
       "              'temp': 0.0002723517574253681,\n",
       "              'RH': 0.002007721288712649,\n",
       "              'ssr': 0.0,\n",
       "              'tp': 0.0,\n",
       "              'blh': 0.0005540146860447658,\n",
       "              'tcc': 0.0005540146860447658,\n",
       "              'sp': 0.0005540146860447658,\n",
       "              'date_unix': 0.0,\n",
       "              'week': 0.0,\n",
       "              'weekday': 0.0,\n",
       "              'hour': 0.0,\n",
       "              'month': 0.0,\n",
       "              'day_julian': 0.0}),\n",
       " 'no': defaultdict(None,\n",
       "             {'ws': 0.0,\n",
       "              'wd': 0.01901860551171848,\n",
       "              'temp': 0.00027229281018980206,\n",
       "              'RH': 0.0020131049642237503,\n",
       "              'ssr': 0.0,\n",
       "              'tp': 0.0,\n",
       "              'blh': 0.000553894776283529,\n",
       "              'tcc': 0.000553894776283529,\n",
       "              'sp': 0.000553894776283529,\n",
       "              'date_unix': 0.0,\n",
       "              'week': 0.0,\n",
       "              'weekday': 0.0,\n",
       "              'hour': 0.0,\n",
       "              'month': 0.0,\n",
       "              'day_julian': 0.0}),\n",
       " 'o3': defaultdict(None,\n",
       "             {'ws': 0.0,\n",
       "              'wd': 0.028275263215022252,\n",
       "              'temp': 0.0010854227721697602,\n",
       "              'RH': 0.001573863019646152,\n",
       "              'ssr': 0.0,\n",
       "              'tp': 0.0,\n",
       "              'blh': 0.0005752740692499729,\n",
       "              'tcc': 0.0005752740692499729,\n",
       "              'sp': 0.0005752740692499729,\n",
       "              'date_unix': 0.0,\n",
       "              'week': 0.0,\n",
       "              'weekday': 0.0,\n",
       "              'hour': 0.0,\n",
       "              'month': 0.0,\n",
       "              'day_julian': 0.0}),\n",
       " 'pm10': defaultdict(None,\n",
       "             {'ws': 0.0,\n",
       "              'wd': 0.02056825521042037,\n",
       "              'temp': 1.4142737939780221e-05,\n",
       "              'RH': 0.0018589843314177781,\n",
       "              'ssr': 0.0,\n",
       "              'tp': 0.0,\n",
       "              'blh': 0.0005704237635711356,\n",
       "              'tcc': 0.0005704237635711356,\n",
       "              'sp': 0.0005704237635711356,\n",
       "              'date_unix': 0.0,\n",
       "              'week': 0.0,\n",
       "              'weekday': 0.0,\n",
       "              'hour': 0.0,\n",
       "              'month': 0.0,\n",
       "              'day_julian': 0.0}),\n",
       " 'pm2.5': defaultdict(None,\n",
       "             {'ws': 0.0,\n",
       "              'wd': 0.018032248166727487,\n",
       "              'temp': 1.0893424184491032e-05,\n",
       "              'RH': 0.002394737749890612,\n",
       "              'ssr': 0.0,\n",
       "              'tp': 0.0,\n",
       "              'blh': 0.0005555646334090426,\n",
       "              'tcc': 0.0005555646334090426,\n",
       "              'sp': 0.0005555646334090426,\n",
       "              'date_unix': 0.0,\n",
       "              'week': 0.0,\n",
       "              'weekday': 0.0,\n",
       "              'hour': 0.0,\n",
       "              'month': 0.0,\n",
       "              'day_julian': 0.0})}"
      ]
     },
     "execution_count": 41,
     "metadata": {},
     "output_type": "execute_result"
    }
   ],
   "source": [
    "null_ratio"
   ]
  },
  {
   "cell_type": "markdown",
   "id": "05bd6e5f",
   "metadata": {},
   "source": [
    "# 3. 剩下的rows里面，missing values是否用median值来替换？\n",
    "# Missing value 到底应该用什么值来替换？"
   ]
  },
  {
   "cell_type": "code",
   "execution_count": 15,
   "id": "4d03805c",
   "metadata": {},
   "outputs": [],
   "source": [
    "pollution = pollutions[0]\n",
    "df = pd.read_csv(data_folder+pollution+'_unionSites.csv')\n",
    "df['index'] = df.index"
   ]
  },
  {
   "cell_type": "code",
   "execution_count": 32,
   "id": "d77dcbe2",
   "metadata": {
    "collapsed": true
   },
   "outputs": [
    {
     "data": {
      "text/plain": [
       "array([<AxesSubplot:title={'center':'wd'}>], dtype=object)"
      ]
     },
     "execution_count": 32,
     "metadata": {},
     "output_type": "execute_result"
    },
    {
     "data": {
      "image/png": "[encoded data removed]",
      "text/plain": [
       "<Figure size 432x288 with 2 Axes>"
      ]
     },
     "metadata": {
      "needs_background": "light"
     },
     "output_type": "display_data"
    }
   ],
   "source": [
    "fig, axes = plt.subplots(1, 2)\n",
    "\n",
    "df.hist('ws', ax=axes[0])\n",
    "df.hist('wd', ax=axes[1])"
   ]
  },
  {
   "cell_type": "code",
   "execution_count": 30,
   "id": "5bc8dcb0",
   "metadata": {
    "collapsed": true
   },
   "outputs": [
    {
     "data": {
      "text/plain": [
       "array([<AxesSubplot:title={'center':'RH'}>], dtype=object)"
      ]
     },
     "execution_count": 30,
     "metadata": {},
     "output_type": "execute_result"
    },
    {
     "data": {
      "image/png": "[encoded data removed]",
      "text/plain": [
       "<Figure size 432x288 with 2 Axes>"
      ]
     },
     "metadata": {
      "needs_background": "light"
     },
     "output_type": "display_data"
    }
   ],
   "source": [
    "fig, axes = plt.subplots(1, 2)\n",
    "\n",
    "df.hist('temp', ax=axes[0])\n",
    "df.hist('RH', ax=axes[1])"
   ]
  },
  {
   "cell_type": "code",
   "execution_count": 33,
   "id": "eecd3a90",
   "metadata": {
    "collapsed": true
   },
   "outputs": [
    {
     "data": {
      "text/plain": [
       "array([<AxesSubplot:title={'center':'tp'}>], dtype=object)"
      ]
     },
     "execution_count": 33,
     "metadata": {},
     "output_type": "execute_result"
    },
    {
     "data": {
      "image/png": "[encoded data removed]",
      "text/plain": [
       "<Figure size 432x288 with 2 Axes>"
      ]
     },
     "metadata": {
      "needs_background": "light"
     },
     "output_type": "display_data"
    }
   ],
   "source": [
    "fig, axes = plt.subplots(1, 2)\n",
    "\n",
    "df.hist('ssr', ax=axes[0])\n",
    "df.hist('tp', ax=axes[1])"
   ]
  },
  {
   "cell_type": "code",
   "execution_count": 34,
   "id": "a310ee84",
   "metadata": {
    "collapsed": true
   },
   "outputs": [
    {
     "data": {
      "text/plain": [
       "array([<AxesSubplot:title={'center':'tcc'}>], dtype=object)"
      ]
     },
     "execution_count": 34,
     "metadata": {},
     "output_type": "execute_result"
    },
    {
     "data": {
      "image/png": "[encoded data removed]",
      "text/plain": [
       "<Figure size 432x288 with 2 Axes>"
      ]
     },
     "metadata": {
      "needs_background": "light"
     },
     "output_type": "display_data"
    }
   ],
   "source": [
    "fig, axes = plt.subplots(1, 2)\n",
    "\n",
    "df.hist('blh', ax=axes[0])\n",
    "df.hist('tcc', ax=axes[1])"
   ]
  },
  {
   "cell_type": "code",
   "execution_count": 36,
   "id": "1bea2550",
   "metadata": {
    "collapsed": true
   },
   "outputs": [
    {
     "data": {
      "text/plain": [
       "(array([1.98000e+02, 2.05700e+03, 1.07030e+04, 3.94130e+04, 1.12644e+05,\n",
       "        2.09669e+05, 2.76454e+05, 1.68523e+05, 3.68740e+04, 2.17200e+03]),\n",
       " array([ 93530.6875 ,  94629.80625,  95728.925  ,  96828.04375,\n",
       "         97927.1625 ,  99026.28125, 100125.4    , 101224.51875,\n",
       "        102323.6375 , 103422.75625, 104521.875  ]),\n",
       " <BarContainer object of 10 artists>)"
      ]
     },
     "execution_count": 36,
     "metadata": {},
     "output_type": "execute_result"
    },
    {
     "data": {
      "image/png": "[encoded data removed]",
      "text/plain": [
       "<Figure size 432x288 with 1 Axes>"
      ]
     },
     "metadata": {
      "needs_background": "light"
     },
     "output_type": "display_data"
    }
   ],
   "source": [
    "plt.hist(df['sp'])"
   ]
  },
  {
   "cell_type": "code",
   "execution_count": null,
   "id": "9569f601",
   "metadata": {},
   "outputs": [],
   "source": []
  }
 ],
 "metadata": {
  "kernelspec": {
   "display_name": "Python 3 (ipykernel)",
   "language": "python",
   "name": "python3"
  },
  "language_info": {
   "codemirror_mode": {
    "name": "ipython",
    "version": 3
   },
   "file_extension": ".py",
   "mimetype": "text/x-python",
   "name": "python",
   "nbconvert_exporter": "python",
   "pygments_lexer": "ipython3",
   "version": "3.9.7"
  }
 },
 "nbformat": 4,
 "nbformat_minor": 5
}
