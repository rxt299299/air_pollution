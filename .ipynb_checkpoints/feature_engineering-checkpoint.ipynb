{
 "cells": [
  {
   "cell_type": "code",
   "execution_count": 47,
   "id": "80ef8047",
   "metadata": {},
   "outputs": [],
   "source": [
    "import matplotlib.pyplot as plt\n",
    "import os\n",
    "import pandas as pd"
   ]
  },
  {
   "cell_type": "code",
   "execution_count": 40,
   "id": "ae3eef40",
   "metadata": {},
   "outputs": [],
   "source": [
    "data_folder = \"D:/Work/污染项目/data-overall/data_process/before_engineer/\"\n",
    "output_folder = data_folder+\"clean_weathers_all_null/\"\n",
    "\n",
    "\n",
    "air_pollutions = ['nox','no2','no','pm2.5','pm10']\n",
    "weathers = ['ws', 'wd', 'vis', 'temp', 'pressure', 'RH']\n",
    "times = ['date_unix', 'week', 'weekday', 'hour', 'month', 'day_julian']\n",
    "weathers_2 = ['ssr', 'tp', 'blh', 'tcc', 'sp', 'tc']"
   ]
  },
  {
   "cell_type": "code",
   "execution_count": 7,
   "id": "889b6e71",
   "metadata": {},
   "outputs": [
    {
     "data": {
      "text/plain": [
       "['AberdeenUnionStreetRoadside',\n",
       " 'AstonHill',\n",
       " 'BirminghamA4540',\n",
       " 'BristolStPauls',\n",
       " 'LeedsCentre',\n",
       " 'LeedsHeadingleyKerbside',\n",
       " 'MaryleboneRoad',\n",
       " 'NorthKensington',\n",
       " 'ScunthorpeTown',\n",
       " 'YorkFishergate']"
      ]
     },
     "execution_count": 7,
     "metadata": {},
     "output_type": "execute_result"
    }
   ],
   "source": [
    "site_names = os.listdir(data_folder)\n",
    "site_names = [item[:-6] for item in site_names if item.endswith('_x.csv')]\n",
    "site_names"
   ]
  },
  {
   "cell_type": "markdown",
   "id": "a7807c05",
   "metadata": {},
   "source": [
    "# check missing values"
   ]
  },
  {
   "cell_type": "markdown",
   "id": "3a410d63",
   "metadata": {},
   "source": [
    "# 1. 如果一个行所有的weathers数据都为空的话，那我们就将其删掉"
   ]
  },
  {
   "cell_type": "code",
   "execution_count": 2,
   "id": "dddf9e56",
   "metadata": {},
   "outputs": [],
   "source": [
    "#Ws, wd, vis, temp, pressure, RH 这些是天气值，如果是missing value的话就是代表那个小时没有采集到对吧？"
   ]
  },
  {
   "cell_type": "code",
   "execution_count": 11,
   "id": "8ff1356f",
   "metadata": {},
   "outputs": [],
   "source": [
    "#1. 现在有5个站点都没有pressure这一列数据（为空值），这次先不考虑pressure为x了\n",
    "#2. 如果一个行所有的weathers数据都为空的话，那我们就将其删掉（只有时间数据，信息值太少，不好training）"
   ]
  },
  {
   "cell_type": "code",
   "execution_count": 35,
   "id": "b5735476",
   "metadata": {},
   "outputs": [],
   "source": [
    "def isnull_idx(df, target_colname, idx_colname):\n",
    "    return df[df[target_colname].isnull()][idx_colname].tolist()\n",
    "\n",
    "\n",
    "def weathers_all_null_idx(df):\n",
    "    ws_null_idxs = isnull_idx(df_x, 'ws', 'index')\n",
    "    wd_null_idxs = isnull_idx(df_x, 'wd', 'index')\n",
    "    vis_null_idxs = isnull_idx(df_x, 'vis', 'index')\n",
    "    temp_null_idxs = isnull_idx(df_x, 'temp', 'index')\n",
    "    RH_null_idxs = isnull_idx(df_x, 'RH', 'index')  \n",
    "    return list(set(ws_null_idxs)&set(wd_null_idxs)& \\\n",
    "                set(vis_null_idxs)&set(temp_null_idxs)&set(RH_null_idxs))"
   ]
  },
  {
   "cell_type": "code",
   "execution_count": 42,
   "id": "d4bb5732",
   "metadata": {},
   "outputs": [],
   "source": [
    "for site_name in site_names:\n",
    "    #read x and y files\n",
    "    df_x = pd.read_csv(data_folder+site_name+'_x.csv')\n",
    "    df_x = df_x.rename(columns={\"Unnamed: 0\": \"index\"})\n",
    "    df_x = df_x.drop(['pressure'], axis=1)\n",
    "\n",
    "    df_y = pd.read_csv(data_folder+site_name+'_y.csv')\n",
    "    df_y = df_y.rename(columns={\"Unnamed: 0\": \"index\"})\n",
    "    \n",
    "    #remove rows with all null weather columns\n",
    "    df_x = df_x[~df_x['index'].isin(weathers_all_null_idx(df_x))]\n",
    "    df_y = df_y[df_y['index'].isin(df_x['index'].tolist())]\n",
    "    \n",
    "    #output the updated rows\n",
    "    df_x.to_csv(output_folder+site_name+'_x.csv',index=False)\n",
    "    df_y.to_csv(output_folder+site_name+'_y.csv',index=False)"
   ]
  },
  {
   "cell_type": "markdown",
   "id": "dd6ea007",
   "metadata": {},
   "source": [
    "# 2. 剩下的rows里面，missing values是否用median值来替换？\n",
    "# Missing value 到底应该用什么值来替换？"
   ]
  },
  {
   "cell_type": "code",
   "execution_count": 43,
   "id": "66ebc9ad",
   "metadata": {},
   "outputs": [],
   "source": [
    "site_name = 'BristolStPauls'\n",
    "df_x = pd.read_csv(output_folder+site_name+'_x.csv')"
   ]
  },
  {
   "cell_type": "code",
   "execution_count": 45,
   "id": "4d03805c",
   "metadata": {},
   "outputs": [
    {
     "data": {
      "text/html": [
       "<div>\n",
       "<style scoped>\n",
       "    .dataframe tbody tr th:only-of-type {\n",
       "        vertical-align: middle;\n",
       "    }\n",
       "\n",
       "    .dataframe tbody tr th {\n",
       "        vertical-align: top;\n",
       "    }\n",
       "\n",
       "    .dataframe thead th {\n",
       "        text-align: right;\n",
       "    }\n",
       "</style>\n",
       "<table border=\"1\" class=\"dataframe\">\n",
       "  <thead>\n",
       "    <tr style=\"text-align: right;\">\n",
       "      <th></th>\n",
       "      <th>index</th>\n",
       "      <th>ap_code</th>\n",
       "      <th>ws</th>\n",
       "      <th>wd</th>\n",
       "      <th>vis</th>\n",
       "      <th>temp</th>\n",
       "      <th>RH</th>\n",
       "      <th>date_unix</th>\n",
       "      <th>week</th>\n",
       "      <th>weekday</th>\n",
       "      <th>hour</th>\n",
       "      <th>month</th>\n",
       "      <th>day_julian</th>\n",
       "      <th>ap_lat</th>\n",
       "      <th>ap_long</th>\n",
       "      <th>MetCode</th>\n",
       "      <th>met_lat</th>\n",
       "      <th>met_long</th>\n",
       "      <th>site</th>\n",
       "    </tr>\n",
       "  </thead>\n",
       "  <tbody>\n",
       "    <tr>\n",
       "      <th>0</th>\n",
       "      <td>0</td>\n",
       "      <td>BRS8</td>\n",
       "      <td>1.55</td>\n",
       "      <td>330.0</td>\n",
       "      <td>11265.0</td>\n",
       "      <td>4.0</td>\n",
       "      <td>81.029741</td>\n",
       "      <td>1.293840e+09</td>\n",
       "      <td>1</td>\n",
       "      <td>6</td>\n",
       "      <td>0</td>\n",
       "      <td>1</td>\n",
       "      <td>1</td>\n",
       "      <td>51.462839</td>\n",
       "      <td>-2.584482</td>\n",
       "      <td>37243</td>\n",
       "      <td>51.382778</td>\n",
       "      <td>-2.719167</td>\n",
       "      <td>UB</td>\n",
       "    </tr>\n",
       "    <tr>\n",
       "      <th>1</th>\n",
       "      <td>1</td>\n",
       "      <td>BRS8</td>\n",
       "      <td>2.30</td>\n",
       "      <td>330.0</td>\n",
       "      <td>11265.0</td>\n",
       "      <td>4.0</td>\n",
       "      <td>83.999321</td>\n",
       "      <td>1.293844e+09</td>\n",
       "      <td>1</td>\n",
       "      <td>6</td>\n",
       "      <td>1</td>\n",
       "      <td>1</td>\n",
       "      <td>1</td>\n",
       "      <td>51.462839</td>\n",
       "      <td>-2.584482</td>\n",
       "      <td>37243</td>\n",
       "      <td>51.382778</td>\n",
       "      <td>-2.719167</td>\n",
       "      <td>UB</td>\n",
       "    </tr>\n",
       "    <tr>\n",
       "      <th>2</th>\n",
       "      <td>2</td>\n",
       "      <td>BRS8</td>\n",
       "      <td>3.10</td>\n",
       "      <td>335.0</td>\n",
       "      <td>11265.0</td>\n",
       "      <td>3.0</td>\n",
       "      <td>90.053637</td>\n",
       "      <td>1.293847e+09</td>\n",
       "      <td>1</td>\n",
       "      <td>6</td>\n",
       "      <td>2</td>\n",
       "      <td>1</td>\n",
       "      <td>1</td>\n",
       "      <td>51.462839</td>\n",
       "      <td>-2.584482</td>\n",
       "      <td>37243</td>\n",
       "      <td>51.382778</td>\n",
       "      <td>-2.719167</td>\n",
       "      <td>UB</td>\n",
       "    </tr>\n",
       "    <tr>\n",
       "      <th>3</th>\n",
       "      <td>3</td>\n",
       "      <td>BRS8</td>\n",
       "      <td>1.25</td>\n",
       "      <td>270.0</td>\n",
       "      <td>11265.0</td>\n",
       "      <td>3.0</td>\n",
       "      <td>86.872833</td>\n",
       "      <td>1.293851e+09</td>\n",
       "      <td>1</td>\n",
       "      <td>6</td>\n",
       "      <td>3</td>\n",
       "      <td>1</td>\n",
       "      <td>1</td>\n",
       "      <td>51.462839</td>\n",
       "      <td>-2.584482</td>\n",
       "      <td>37243</td>\n",
       "      <td>51.382778</td>\n",
       "      <td>-2.719167</td>\n",
       "      <td>UB</td>\n",
       "    </tr>\n",
       "    <tr>\n",
       "      <th>4</th>\n",
       "      <td>4</td>\n",
       "      <td>BRS8</td>\n",
       "      <td>2.60</td>\n",
       "      <td>290.0</td>\n",
       "      <td>11265.0</td>\n",
       "      <td>3.0</td>\n",
       "      <td>86.872833</td>\n",
       "      <td>1.293854e+09</td>\n",
       "      <td>1</td>\n",
       "      <td>6</td>\n",
       "      <td>4</td>\n",
       "      <td>1</td>\n",
       "      <td>1</td>\n",
       "      <td>51.462839</td>\n",
       "      <td>-2.584482</td>\n",
       "      <td>37243</td>\n",
       "      <td>51.382778</td>\n",
       "      <td>-2.719167</td>\n",
       "      <td>UB</td>\n",
       "    </tr>\n",
       "  </tbody>\n",
       "</table>\n",
       "</div>"
      ],
      "text/plain": [
       "   index ap_code    ws     wd      vis  temp         RH     date_unix  week  \\\n",
       "0      0    BRS8  1.55  330.0  11265.0   4.0  81.029741  1.293840e+09     1   \n",
       "1      1    BRS8  2.30  330.0  11265.0   4.0  83.999321  1.293844e+09     1   \n",
       "2      2    BRS8  3.10  335.0  11265.0   3.0  90.053637  1.293847e+09     1   \n",
       "3      3    BRS8  1.25  270.0  11265.0   3.0  86.872833  1.293851e+09     1   \n",
       "4      4    BRS8  2.60  290.0  11265.0   3.0  86.872833  1.293854e+09     1   \n",
       "\n",
       "   weekday  hour  month  day_julian     ap_lat   ap_long  MetCode    met_lat  \\\n",
       "0        6     0      1           1  51.462839 -2.584482    37243  51.382778   \n",
       "1        6     1      1           1  51.462839 -2.584482    37243  51.382778   \n",
       "2        6     2      1           1  51.462839 -2.584482    37243  51.382778   \n",
       "3        6     3      1           1  51.462839 -2.584482    37243  51.382778   \n",
       "4        6     4      1           1  51.462839 -2.584482    37243  51.382778   \n",
       "\n",
       "   met_long site  \n",
       "0 -2.719167   UB  \n",
       "1 -2.719167   UB  \n",
       "2 -2.719167   UB  \n",
       "3 -2.719167   UB  \n",
       "4 -2.719167   UB  "
      ]
     },
     "execution_count": 45,
     "metadata": {},
     "output_type": "execute_result"
    }
   ],
   "source": [
    "df_x.head()"
   ]
  },
  {
   "cell_type": "code",
   "execution_count": 48,
   "id": "5bc8dcb0",
   "metadata": {},
   "outputs": [
    {
     "data": {
      "image/png": "[encoded data removed]",
      "text/plain": [
       "<Figure size 432x288 with 1 Axes>"
      ]
     },
     "metadata": {
      "needs_background": "light"
     },
     "output_type": "display_data"
    }
   ],
   "source": [
    "plt.hist(df_x['ws'])\n",
    "plt.show() "
   ]
  },
  {
   "cell_type": "code",
   "execution_count": 49,
   "id": "a804632f",
   "metadata": {},
   "outputs": [
    {
     "data": {
      "image/png": "[encoded data removed]",
      "text/plain": [
       "<Figure size 432x288 with 1 Axes>"
      ]
     },
     "metadata": {
      "needs_background": "light"
     },
     "output_type": "display_data"
    }
   ],
   "source": [
    "plt.hist(df_x['wd'])\n",
    "plt.show() "
   ]
  },
  {
   "cell_type": "code",
   "execution_count": 50,
   "id": "e7ade4d3",
   "metadata": {},
   "outputs": [
    {
     "data": {
      "image/png": "[encoded data removed]",
      "text/plain": [
       "<Figure size 432x288 with 1 Axes>"
      ]
     },
     "metadata": {
      "needs_background": "light"
     },
     "output_type": "display_data"
    }
   ],
   "source": [
    "plt.hist(df_x['vis'])\n",
    "plt.show() "
   ]
  },
  {
   "cell_type": "code",
   "execution_count": 51,
   "id": "cf8aa7a3",
   "metadata": {},
   "outputs": [
    {
     "data": {
      "image/png": "[encoded data removed]",
      "text/plain": [
       "<Figure size 432x288 with 1 Axes>"
      ]
     },
     "metadata": {
      "needs_background": "light"
     },
     "output_type": "display_data"
    }
   ],
   "source": [
    "plt.hist(df_x['temp'])\n",
    "plt.show() "
   ]
  },
  {
   "cell_type": "code",
   "execution_count": 52,
   "id": "f462cdbd",
   "metadata": {},
   "outputs": [
    {
     "data": {
      "image/png": "[encoded data removed]",
      "text/plain": [
       "<Figure size 432x288 with 1 Axes>"
      ]
     },
     "metadata": {
      "needs_background": "light"
     },
     "output_type": "display_data"
    }
   ],
   "source": [
    "plt.hist(df_x['RH'])\n",
    "plt.show() "
   ]
  },
  {
   "cell_type": "code",
   "execution_count": null,
   "id": "eecd3a90",
   "metadata": {},
   "outputs": [],
   "source": []
  }
 ],
 "metadata": {
  "kernelspec": {
   "display_name": "Python 3 (ipykernel)",
   "language": "python",
   "name": "python3"
  },
  "language_info": {
   "codemirror_mode": {
    "name": "ipython",
    "version": 3
   },
   "file_extension": ".py",
   "mimetype": "text/x-python",
   "name": "python",
   "nbconvert_exporter": "python",
   "pygments_lexer": "ipython3",
   "version": "3.9.7"
  }
 },
 "nbformat": 4,
 "nbformat_minor": 5
}
