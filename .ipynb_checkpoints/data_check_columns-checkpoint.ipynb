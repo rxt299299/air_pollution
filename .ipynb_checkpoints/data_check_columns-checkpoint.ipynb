{
 "cells": [
  {
   "cell_type": "code",
   "execution_count": 1,
   "id": "467ff054",
   "metadata": {},
   "outputs": [],
   "source": [
    "import os\n",
    "import pandas as pd\n",
    "from collections import defaultdict"
   ]
  },
  {
   "cell_type": "code",
   "execution_count": 17,
   "id": "cb1dddb9",
   "metadata": {},
   "outputs": [],
   "source": [
    "#load the grouped list for colnames\n",
    "from utils import *"
   ]
  },
  {
   "cell_type": "markdown",
   "id": "6de9ed32",
   "metadata": {},
   "source": [
    "# overall target: 为了检查不同站点都有哪些columns缺失，分别按照四组groups来检测"
   ]
  },
  {
   "cell_type": "code",
   "execution_count": 2,
   "id": "e2d2126d",
   "metadata": {},
   "outputs": [],
   "source": [
    "data_folder = \"D:/Work/污染项目/data-overall-update/data/\""
   ]
  },
  {
   "cell_type": "code",
   "execution_count": 7,
   "id": "68aa8776",
   "metadata": {},
   "outputs": [],
   "source": [
    "# air_pollutions = ['nox','no2','no','o3','pm2.5','pm10']\n",
    "# weathers = ['ws', 'wd', 'temp', 'RH']\n",
    "# weathers_2 = ['ssr', 'tp', 'blh', 'tcc', 'sp', 'tc']\n",
    "# times = ['date_unix', 'week', 'weekday', 'hour', 'month', 'day_julian']"
   ]
  },
  {
   "cell_type": "code",
   "execution_count": 3,
   "id": "75359229",
   "metadata": {},
   "outputs": [],
   "source": [
    "csv_files = os.listdir(data_folder)\n",
    "csv_files = [item for item in csv_files if item.endswith('.csv')]"
   ]
  },
  {
   "cell_type": "code",
   "execution_count": 4,
   "id": "74873f4e",
   "metadata": {},
   "outputs": [],
   "source": [
    "### Step 1: 检查所有站点的数据，遍历找到所有distinct 的 column name\n",
    "distinct_colnames = set()\n",
    "\n",
    "for csv_file in csv_files:\n",
    "    df_csv = pd.read_csv(data_folder+csv_file)\n",
    "    distinct_colnames.update(set(df_csv.columns))"
   ]
  },
  {
   "cell_type": "code",
   "execution_count": 10,
   "id": "78da1ffb",
   "metadata": {},
   "outputs": [
    {
     "name": "stdout",
     "output_type": "stream",
     "text": [
      "Site in csv column but not in any grouped column list\n",
      "date in csv column but not in any grouped column list\n",
      "code in csv column but not in any grouped column list\n",
      "Unnamed: 0 in csv column but not in any grouped column list\n",
      "site in csv column but not in any grouped column list\n",
      "--------------------------\n",
      "--------------------------\n",
      "--------------------------\n"
     ]
    }
   ],
   "source": [
    "overall_list = air_pollutions+weathers+ \\\n",
    "               times+weathers_2\n",
    "\n",
    "for colname in distinct_colnames:\n",
    "    if colname not in overall_list:\n",
    "        print (colname+\" in csv column but not in any grouped column list\")\n",
    "\n",
    "print (\"--------------------------\")\n",
    "print (\"--------------------------\")\n",
    "print (\"--------------------------\")\n",
    "\n",
    "for colname in overall_list:\n",
    "    if colname not in distinct_colnames:\n",
    "        print (colname+\" in grouped column list but not in csv columns\")"
   ]
  },
  {
   "cell_type": "code",
   "execution_count": 11,
   "id": "b0bdec7c",
   "metadata": {},
   "outputs": [],
   "source": [
    "### Step 2: 检查不同站点都有哪些columns缺失，分别按照四组groups来检测\n",
    "def no_columns_report(columns, data_folder, csv_files):\n",
    "    res = defaultdict(list)\n",
    "    \n",
    "    for csv in csv_files:\n",
    "        df = pd.read_csv(data_folder+csv)\n",
    "        for col_name in columns:\n",
    "            if col_name not in df.columns:\n",
    "                res[col_name].append(csv[:-4])\n",
    "                \n",
    "    return res"
   ]
  },
  {
   "cell_type": "code",
   "execution_count": 12,
   "id": "913d033e",
   "metadata": {},
   "outputs": [],
   "source": [
    "pollution_report = no_columns_report(air_pollutions, \n",
    "                                     data_folder, \n",
    "                                     csv_files)\n",
    "\n",
    "weathers_report = no_columns_report(weathers, \n",
    "                                     data_folder, \n",
    "                                     csv_files)\n",
    "\n",
    "times_report = no_columns_report(times, \n",
    "                                     data_folder, \n",
    "                                     csv_files)\n",
    "\n",
    "weathers_2_report = no_columns_report(weathers_2, \n",
    "                                     data_folder, \n",
    "                                     csv_files)"
   ]
  },
  {
   "cell_type": "code",
   "execution_count": 13,
   "id": "90349524",
   "metadata": {},
   "outputs": [
    {
     "data": {
      "text/plain": [
       "defaultdict(list,\n",
       "            {'o3': ['AberdeenUnionStreetRoadside',\n",
       "              'BirminghamA4540',\n",
       "              'BristolStPauls',\n",
       "              'LeedsCentre',\n",
       "              'LeedsHeadingleyKerbside',\n",
       "              'MaryleboneRoad',\n",
       "              'NorthKensington',\n",
       "              'ScunthorpeTown',\n",
       "              'YorkFishergate'],\n",
       "             'pm2.5': ['AberdeenUnionStreetRoadside',\n",
       "              'AstonHill',\n",
       "              'ScunthorpeTown'],\n",
       "             'pm10': ['AberdeenUnionStreetRoadside', 'AstonHill']})"
      ]
     },
     "execution_count": 13,
     "metadata": {},
     "output_type": "execute_result"
    }
   ],
   "source": [
    "pollution_report"
   ]
  },
  {
   "cell_type": "code",
   "execution_count": 14,
   "id": "7c1ae917",
   "metadata": {},
   "outputs": [
    {
     "data": {
      "text/plain": [
       "defaultdict(list, {})"
      ]
     },
     "execution_count": 14,
     "metadata": {},
     "output_type": "execute_result"
    }
   ],
   "source": [
    "weathers_report"
   ]
  },
  {
   "cell_type": "code",
   "execution_count": 15,
   "id": "1bf7a153",
   "metadata": {},
   "outputs": [
    {
     "data": {
      "text/plain": [
       "defaultdict(list, {})"
      ]
     },
     "execution_count": 15,
     "metadata": {},
     "output_type": "execute_result"
    }
   ],
   "source": [
    "times_report"
   ]
  },
  {
   "cell_type": "code",
   "execution_count": 16,
   "id": "a3a61426",
   "metadata": {},
   "outputs": [
    {
     "data": {
      "text/plain": [
       "defaultdict(list,\n",
       "            {'tc': ['AberdeenUnionStreetRoadside',\n",
       "              'AstonHill',\n",
       "              'BirminghamA4540',\n",
       "              'BristolStPauls',\n",
       "              'LeedsCentre',\n",
       "              'LeedsHeadingleyKerbside',\n",
       "              'NorthKensington',\n",
       "              'ScunthorpeTown',\n",
       "              'YorkFishergate']})"
      ]
     },
     "execution_count": 16,
     "metadata": {},
     "output_type": "execute_result"
    }
   ],
   "source": [
    "weathers_2_report"
   ]
  }
 ],
 "metadata": {
  "kernelspec": {
   "display_name": "Python 3 (ipykernel)",
   "language": "python",
   "name": "python3"
  },
  "language_info": {
   "codemirror_mode": {
    "name": "ipython",
    "version": 3
   },
   "file_extension": ".py",
   "mimetype": "text/x-python",
   "name": "python",
   "nbconvert_exporter": "python",
   "pygments_lexer": "ipython3",
   "version": "3.9.7"
  }
 },
 "nbformat": 4,
 "nbformat_minor": 5
}
