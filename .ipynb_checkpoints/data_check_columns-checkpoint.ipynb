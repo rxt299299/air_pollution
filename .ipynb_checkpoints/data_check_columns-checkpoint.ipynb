{
 "cells": [
  {
   "cell_type": "code",
   "execution_count": 1,
   "id": "8f4366d2",
   "metadata": {},
   "outputs": [],
   "source": [
    "import os\n",
    "import pandas as pd\n",
    "from collections import defaultdict"
   ]
  },
  {
   "cell_type": "markdown",
   "id": "a9e65161",
   "metadata": {},
   "source": [
    "# 为了检查不同站点都有哪些columns缺失，分别按照五组groups来检测"
   ]
  },
  {
   "cell_type": "code",
   "execution_count": 2,
   "id": "08cd0e06",
   "metadata": {},
   "outputs": [],
   "source": [
    "data_folder = \"D:/Work/污染项目/data-overall/data/\"\n",
    "air_pollutions = ['nox','no2','no','pm2.5','pm10']\n",
    "weathers = ['ws', 'wd', 'vis', 'temp', 'pressure', 'RH']\n",
    "times = ['date_unix', 'week', 'weekday', 'hour', 'month', 'day_julian']\n",
    "weathers_2 = ['ssr', 'tp', 'blh', 'tcc', 'sp', 'tc']\n",
    "sites = ['Site']"
   ]
  },
  {
   "cell_type": "code",
   "execution_count": 3,
   "id": "eb7f2668",
   "metadata": {},
   "outputs": [
    {
     "data": {
      "text/plain": [
       "Index(['Unnamed: 0', 'site', 'code', 'date', 'nox', 'no2', 'no', 'pm2.5',\n",
       "       'pm10', 'ws', 'wd', 'vis', 'temp', 'pressure', 'RH', 'date_unix',\n",
       "       'week', 'weekday', 'hour', 'month', 'day_julian', 'ssr', 'tp', 'blh',\n",
       "       'tcc', 'sp', 'tc', 'Site'],\n",
       "      dtype='object')"
      ]
     },
     "execution_count": 3,
     "metadata": {},
     "output_type": "execute_result"
    }
   ],
   "source": [
    "#MaryleboneRoad里面所有的columns都是全的\n",
    "df_mary = pd.read_csv(data_folder+'MaryleboneRoad.csv')\n",
    "df_mary.columns"
   ]
  },
  {
   "cell_type": "code",
   "execution_count": 4,
   "id": "044fd69d",
   "metadata": {},
   "outputs": [],
   "source": [
    "csv_files = os.listdir(data_folder)\n",
    "csv_files = [item for item in csv_files if item.endswith('.csv')]"
   ]
  },
  {
   "cell_type": "code",
   "execution_count": 5,
   "id": "f42c7ecc",
   "metadata": {},
   "outputs": [
    {
     "data": {
      "text/plain": [
       "['AberdeenUnionStreetRoadside.csv',\n",
       " 'AstonHill.csv',\n",
       " 'BirminghamA4540.csv',\n",
       " 'BristolStPauls.csv',\n",
       " 'LeedsCentre.csv',\n",
       " 'LeedsHeadingleyKerbside.csv',\n",
       " 'MaryleboneRoad.csv',\n",
       " 'NorthKensington.csv',\n",
       " 'ScunthorpeTown.csv',\n",
       " 'YorkFishergate.csv']"
      ]
     },
     "execution_count": 5,
     "metadata": {},
     "output_type": "execute_result"
    }
   ],
   "source": [
    "csv_files"
   ]
  },
  {
   "cell_type": "code",
   "execution_count": 6,
   "id": "be123c57",
   "metadata": {},
   "outputs": [],
   "source": [
    "def no_columns_report(columns, data_folder, csv_files):\n",
    "    res = defaultdict(list)\n",
    "    \n",
    "    for csv in csv_files:\n",
    "        df = pd.read_csv(data_folder+csv)\n",
    "        for col_name in columns:\n",
    "            if col_name not in df.columns:\n",
    "                res[col_name].append(csv[:-4])\n",
    "                \n",
    "    return res"
   ]
  },
  {
   "cell_type": "code",
   "execution_count": 7,
   "id": "00ab63e1",
   "metadata": {},
   "outputs": [],
   "source": [
    "pollution_report = no_columns_report(air_pollutions, \n",
    "                                     data_folder, \n",
    "                                     csv_files)\n",
    "\n",
    "weathers_report = no_columns_report(weathers, \n",
    "                                     data_folder, \n",
    "                                     csv_files)\n",
    "\n",
    "times_report = no_columns_report(times, \n",
    "                                     data_folder, \n",
    "                                     csv_files)\n",
    "\n",
    "weathers_2_report = no_columns_report(weathers_2, \n",
    "                                     data_folder, \n",
    "                                     csv_files)"
   ]
  },
  {
   "cell_type": "code",
   "execution_count": 8,
   "id": "1fd9db3a",
   "metadata": {},
   "outputs": [],
   "source": [
    "sites_report = no_columns_report(sites, \n",
    "                                     data_folder, \n",
    "                                     csv_files)"
   ]
  },
  {
   "cell_type": "code",
   "execution_count": 9,
   "id": "a93c05f4",
   "metadata": {},
   "outputs": [
    {
     "data": {
      "text/plain": [
       "defaultdict(list, {})"
      ]
     },
     "execution_count": 9,
     "metadata": {},
     "output_type": "execute_result"
    }
   ],
   "source": [
    "weathers_report"
   ]
  },
  {
   "cell_type": "code",
   "execution_count": 10,
   "id": "873814ce",
   "metadata": {},
   "outputs": [
    {
     "data": {
      "text/plain": [
       "defaultdict(list, {})"
      ]
     },
     "execution_count": 10,
     "metadata": {},
     "output_type": "execute_result"
    }
   ],
   "source": [
    "times_report"
   ]
  },
  {
   "cell_type": "code",
   "execution_count": 11,
   "id": "0075dbce",
   "metadata": {},
   "outputs": [
    {
     "data": {
      "text/plain": [
       "defaultdict(list,\n",
       "            {'ssr': ['AberdeenUnionStreetRoadside',\n",
       "              'AstonHill',\n",
       "              'BirminghamA4540',\n",
       "              'BristolStPauls',\n",
       "              'LeedsCentre',\n",
       "              'LeedsHeadingleyKerbside',\n",
       "              'ScunthorpeTown',\n",
       "              'YorkFishergate'],\n",
       "             'tp': ['AberdeenUnionStreetRoadside',\n",
       "              'AstonHill',\n",
       "              'BirminghamA4540',\n",
       "              'BristolStPauls',\n",
       "              'LeedsCentre',\n",
       "              'LeedsHeadingleyKerbside',\n",
       "              'ScunthorpeTown',\n",
       "              'YorkFishergate'],\n",
       "             'blh': ['AberdeenUnionStreetRoadside',\n",
       "              'AstonHill',\n",
       "              'BirminghamA4540',\n",
       "              'BristolStPauls',\n",
       "              'LeedsCentre',\n",
       "              'LeedsHeadingleyKerbside',\n",
       "              'ScunthorpeTown',\n",
       "              'YorkFishergate'],\n",
       "             'tcc': ['AberdeenUnionStreetRoadside',\n",
       "              'AstonHill',\n",
       "              'BirminghamA4540',\n",
       "              'BristolStPauls',\n",
       "              'LeedsCentre',\n",
       "              'LeedsHeadingleyKerbside',\n",
       "              'ScunthorpeTown',\n",
       "              'YorkFishergate'],\n",
       "             'sp': ['AberdeenUnionStreetRoadside',\n",
       "              'AstonHill',\n",
       "              'BirminghamA4540',\n",
       "              'BristolStPauls',\n",
       "              'LeedsCentre',\n",
       "              'LeedsHeadingleyKerbside',\n",
       "              'ScunthorpeTown',\n",
       "              'YorkFishergate'],\n",
       "             'tc': ['AberdeenUnionStreetRoadside',\n",
       "              'AstonHill',\n",
       "              'BirminghamA4540',\n",
       "              'BristolStPauls',\n",
       "              'LeedsCentre',\n",
       "              'LeedsHeadingleyKerbside',\n",
       "              'ScunthorpeTown',\n",
       "              'YorkFishergate']})"
      ]
     },
     "execution_count": 11,
     "metadata": {},
     "output_type": "execute_result"
    }
   ],
   "source": [
    "weathers_2_report"
   ]
  },
  {
   "cell_type": "code",
   "execution_count": 12,
   "id": "e9e6e2eb",
   "metadata": {},
   "outputs": [
    {
     "data": {
      "text/plain": [
       "defaultdict(list,\n",
       "            {'Site': ['AberdeenUnionStreetRoadside',\n",
       "              'AstonHill',\n",
       "              'BirminghamA4540',\n",
       "              'LeedsCentre',\n",
       "              'LeedsHeadingleyKerbside',\n",
       "              'ScunthorpeTown',\n",
       "              'YorkFishergate']})"
      ]
     },
     "execution_count": 12,
     "metadata": {},
     "output_type": "execute_result"
    }
   ],
   "source": [
    "sites_report"
   ]
  },
  {
   "cell_type": "code",
   "execution_count": null,
   "id": "1e589ea6",
   "metadata": {},
   "outputs": [],
   "source": []
  }
 ],
 "metadata": {
  "kernelspec": {
   "display_name": "Python 3 (ipykernel)",
   "language": "python",
   "name": "python3"
  },
  "language_info": {
   "codemirror_mode": {
    "name": "ipython",
    "version": 3
   },
   "file_extension": ".py",
   "mimetype": "text/x-python",
   "name": "python",
   "nbconvert_exporter": "python",
   "pygments_lexer": "ipython3",
   "version": "3.9.7"
  }
 },
 "nbformat": 4,
 "nbformat_minor": 5
}
