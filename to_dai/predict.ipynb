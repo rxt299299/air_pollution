{
 "cells": [
  {
   "cell_type": "code",
   "execution_count": 1,
   "metadata": {},
   "outputs": [],
   "source": [
    "#load the grouped list for colnames\n",
    "from utils import *\n",
    "import json\n",
    "import lightgbm as lgb\n",
    "import numpy as np\n",
    "import pandas as pd\n",
    "import os\n",
    "import random\n",
    "from datetime import datetime"
   ]
  },
  {
   "cell_type": "code",
   "execution_count": 15,
   "metadata": {},
   "outputs": [],
   "source": [
    "# from date unix extract year\n",
    "def extract_year(row):\n",
    "    date_unix = int(row['date_unix'])\n",
    "    return datetime.utcfromtimestamp(date_unix).year\n",
    "\n",
    "# extract siteInfo column\n",
    "def extract_siteInfo(row, site_info_dict, colname):\n",
    "    ap_code = row['ap_code']\n",
    "    \n",
    "    return site_info_dict[ap_code][colname]\n"
   ]
  },
  {
   "cell_type": "code",
   "execution_count": 35,
   "metadata": {},
   "outputs": [],
   "source": [
    "air_pollution = 'no2'\n",
    "with_o3 = False\n",
    "csv_path = 'MaryleboneRoad.csv'\n",
    "\n",
    "\n",
    "if with_o3:\n",
    "    o3_str = 'with_o3'\n",
    "else:\n",
    "    o3_str = 'without_o3'\n",
    "\n",
    "output_path = air_pollution+'_union_'+o3_str+'_'+csv_path\n",
    "data_fill_path = 'configs/'+air_pollution+\"_unionSites_\"+o3_str+\"_median.json\"\n",
    "model_path = 'models/'+o3_str+'/'+air_pollution+'_model.txt'"
   ]
  },
  {
   "cell_type": "code",
   "execution_count": 4,
   "metadata": {},
   "outputs": [],
   "source": [
    "if not with_o3:\n",
    "    if 'o3' in continuous_variables:\n",
    "        continuous_variables.remove('o3')\n",
    "if with_o3:\n",
    "    if 'o3' not in continuous_variables:\n",
    "        continuous_variables.append('o3')\n",
    "    if 'o3' in air_pollutions:\n",
    "        air_pollutions.remove('o3')\n",
    "\n",
    "features_names = continuous_variables + category_variables"
   ]
  },
  {
   "cell_type": "code",
   "execution_count": 5,
   "metadata": {},
   "outputs": [],
   "source": [
    "# Opening JSON file\n",
    "with open(data_fill_path) as json_file:\n",
    "    data_fill = json.load(json_file)"
   ]
  },
  {
   "cell_type": "code",
   "execution_count": 6,
   "metadata": {},
   "outputs": [],
   "source": [
    "model = lgb.Booster(model_file=model_path)"
   ]
  },
  {
   "cell_type": "code",
   "execution_count": 7,
   "metadata": {},
   "outputs": [],
   "source": [
    "df_csv = pd.read_csv(csv_path)"
   ]
  },
  {
   "cell_type": "code",
   "execution_count": 8,
   "metadata": {},
   "outputs": [],
   "source": [
    "#add column year\n",
    "df_csv['year'] = df_csv.apply(lambda row : extract_year(row), axis=1)\n",
    "\n",
    "#if the ap_code column is called code \n",
    "if 'code' in df_csv.columns and 'ap_code' not in df_csv.columns:\n",
    "    df_csv = df_csv.rename(columns={\"code\": \"ap_code\"})\n",
    "\n",
    "for colname in site_info_columns:\n",
    "    df_csv[colname] = df_csv.apply(lambda row : extract_siteInfo(row, site_info_dict, colname), axis=1)"
   ]
  },
  {
   "cell_type": "code",
   "execution_count": 21,
   "metadata": {},
   "outputs": [],
   "source": [
    "for ap_code in np.unique(df_csv['ap_code']):\n",
    "\n",
    "    for colname in continuous_variables:\n",
    "        condition = (df_csv['ap_code'] == ap_code)\n",
    "        df_csv.loc[condition, colname] = df_csv.loc[condition, colname].fillna(data_fill[ap_code][colname])"
   ]
  },
  {
   "cell_type": "code",
   "execution_count": 26,
   "metadata": {},
   "outputs": [],
   "source": [
    "for c in category_variables:\n",
    "    if c in df_csv.columns:\n",
    "        df_csv[c] = df_csv[c].astype('category')"
   ]
  },
  {
   "cell_type": "code",
   "execution_count": 28,
   "metadata": {},
   "outputs": [],
   "source": [
    "y_predicts = model.predict(df_csv[features_names])"
   ]
  },
  {
   "cell_type": "code",
   "execution_count": 36,
   "metadata": {},
   "outputs": [],
   "source": [
    "df_csv[air_pollution+'_predict'] = y_predicts\n",
    "df_csv.to_csv(output_path, index=False)"
   ]
  },
  {
   "cell_type": "code",
   "execution_count": null,
   "metadata": {},
   "outputs": [],
   "source": []
  }
 ],
 "metadata": {
  "kernelspec": {
   "display_name": "base",
   "language": "python",
   "name": "python3"
  },
  "language_info": {
   "codemirror_mode": {
    "name": "ipython",
    "version": 3
   },
   "file_extension": ".py",
   "mimetype": "text/x-python",
   "name": "python",
   "nbconvert_exporter": "python",
   "pygments_lexer": "ipython3",
   "version": "3.8.8"
  },
  "orig_nbformat": 4,
  "vscode": {
   "interpreter": {
    "hash": "93742c44c38f9f48ce1a87c66aba9d04491781008217c78a726db72117af949b"
   }
  }
 },
 "nbformat": 4,
 "nbformat_minor": 2
}
